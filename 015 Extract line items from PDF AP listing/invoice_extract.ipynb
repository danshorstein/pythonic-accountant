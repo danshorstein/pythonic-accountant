{
 "cells": [
  {
   "cell_type": "code",
   "execution_count": 17,
   "metadata": {},
   "outputs": [],
   "source": [
    "import re\n",
    "\n",
    "import requests\n",
    "import pdfplumber\n",
    "import pandas as pd\n",
    "from collections import namedtuple"
   ]
  },
  {
   "cell_type": "code",
   "execution_count": 18,
   "metadata": {},
   "outputs": [],
   "source": [
    "Inv = namedtuple('Inv', 'vend_num vend_name inv_dt due_dt inv_amt net_amt description')"
   ]
  },
  {
   "cell_type": "code",
   "execution_count": 19,
   "metadata": {},
   "outputs": [],
   "source": [
    "def download_file(url):\n",
    "    local_filename = url.split('/')[-1]\n",
    "    \n",
    "    with requests.get(url) as r:\n",
    "        with open(local_filename, 'wb') as f:\n",
    "            f.write(r.content)\n",
    "        \n",
    "    return local_filename"
   ]
  },
  {
   "cell_type": "code",
   "execution_count": 20,
   "metadata": {},
   "outputs": [],
   "source": [
    "ap_url = 'https://www.tabs3.com/support/sample/apreports.pdf'"
   ]
  },
  {
   "cell_type": "code",
   "execution_count": 21,
   "metadata": {},
   "outputs": [],
   "source": [
    "ap = download_file(ap_url)"
   ]
  },
  {
   "cell_type": "code",
   "execution_count": 22,
   "metadata": {},
   "outputs": [],
   "source": [
    "with pdfplumber.open(ap) as pdf:\n",
    "    page = pdf.pages[16]\n",
    "    text = page.extract_text()"
   ]
  },
  {
   "cell_type": "code",
   "execution_count": 23,
   "metadata": {},
   "outputs": [
    {
     "name": "stdout",
     "output_type": "stream",
     "text": [
      "AccountsPayableReportPack\n",
      "changeswillbereflectedunderthe\"New\"heading.Whenaninvoiceormanualcheckisdeleted,\n",
      "theInvoiceAmountisautomaticallychangedtozeroandtheStatusfieldischangedto\"D\".\n",
      "TotalTransactionCount Totalnumberoftransactionsonthelistincludingchangesanddeletions.Eachchangedtransaction\n",
      "(i.e.,botholdandnew)countsasonetransaction.\n",
      "1Notshownonsamplereport.\n",
      "Invoice by Vendor List\n",
      "Date: 08/25/2020 Invoice by Vendor List Page: 1\n",
      "Jensen, Martin & Anderson, P.C.\n",
      "Inv Due Inv Disc Disc Net\n",
      "Voucher # Invoice # Date Date Amount Amount Date Amount 1099 Ref # Description Codes\n",
      "200 United Parcel Service\n",
      "200.01MLJ 3243387 032620 062620 75.00 P 75.00 1 Overnight document delivery * 1\n",
      "3243387 032720 062720 75.00 P 75.00 3 Postage * 1\n",
      "3243387 072620 072620 75.00 P 75.00 2 Overnight document delivery * 1\n",
      "Vendor Totals 225.00 0.00 225.00\n",
      "202 Software Technology, LLC\n",
      "312205 082020 082520 490.00 P 490.00 1 Software Maintenance Agreement Tabs3 * 1\n",
      "312206 082020 082520 239.00 P 239.00 2 Software Maintenance Agreement Tabs3 General Ledger * 1\n",
      "312207 082020 082520 239.00 P 239.00 3 Software Maintenance Agreement Tabs3 Accounts Payable * 1\n",
      "312208 082020 082520 239.00 P 239.00 4 Software Maintenance Agreement Tabs3 Trust Accounting * 1\n",
      "312209 082020 082520 800.00 P 800.00 5 Software Maintenance Agreement PracticeMaster (9 Users) * 1\n",
      "312210 082020 082520 105.00 P 105.00 6 Software Maintenance Agreement Tabs3 Taskbill * 1\n",
      "320559 082520 083020 205.00 205.00 7 Purchase Tabs3 Device Interface Program 1\n",
      "Vendor Totals 2,317.00 0.00 2,317.00\n",
      "203 Clerk of the County Court\n",
      "200.01PAM 042620 042620 225.00 P 225.00 1 Documentation Fee, Filing Fee, and Sheriff Service Fee * 1\n",
      "Vendor Totals 225.00 0.00 225.00\n",
      "204 Clerk of the District Court\n",
      "032720 032720 75.00 P 75.00 2 Filing fee * 1\n",
      "052020 052020 75.00 P 75.00 3 Filing fee * 1\n",
      "850.00 RON 082020 082020 150.00 150.00 1 Petition for Dissolution of Marriage Filing Fee 1\n",
      "Vendor Totals 300.00 0.00 300.00\n",
      "225 Jackson/Wylinda\n",
      "122419 122419 750.00 P 750.00 Y 2 Holiday Party * 1\n",
      "072620 072620 1,500.00 P 1,500.00 Y 1 Catering/Firm Retreat * 1\n",
      "Vendor Totals 2,250.00 0.00 2,250.00\n",
      "240 NELCO\n",
      "5065 2094756 072620 082620 129.85 P 129.85 1 Check order for APS and TAS Checks * 1\n",
      "Vendor Totals 129.85 0.00 129.85\n",
      "250 D & B Real Estate Management Company\n",
      "AUTO 072220 072220 7,500.00 P 7,500.00 Y 1 Monthly Rent (Including Electric, Gas & Garbage) * 1\n",
      "AUTO 072620 072620 7,500.00 P 7,500.00 Y 2 Monthly Rent (Including Electric, Gas & Garbage) * 1\n",
      "5074 KEY 081320 081320 10.00 10.00 N 3 Duplicate Key for building 1\n",
      "Vendor Totals 15,010.00 0.00 15,010.00\n",
      "300 Thomson Reuters Payment Center\n",
      "042520 042520 4.00 P 4.00 3 Online Legal Research * 1\n",
      "052420 052420 75.00 P 75.00 1 Online Legal Research * 1\n",
      "062520 062520 40.00 P 40.00 4 Online Legal Research * 1\n",
      "072920 072920 4.00 P 4.00 2 Online Legal Research * 1\n",
      "073020 073020 50.00 P 50.00 5 Online Legal Research * 1\n",
      "073020 073020 50.00 P 50.00 6 Online Legal Research * 1\n",
      "073020 073020 50.00 P 50.00 7 Online Legal Research * 1\n",
      "073020 073020 50.00 P 50.00 8 Online Legal Research * 1\n",
      "Vendor Totals 323.00 0.00 323.00\n",
      "325 Professional Messenger Services\n",
      "062120 062120 20.00 P 20.00 Y 2 Courier Fee * 1\n",
      "062420 062420 25.00 P 25.00 Y 4 Courier Fee * 1\n",
      "082520 082520 47.50 P 47.50 Y 1 Courier Fee * 1\n",
      "082520 082520 35.00 P 35.00 Y 3 Courier Fee * 1\n",
      "Vendor Totals 127.50 0.00 127.50\n",
      "400 Sprint Local & Long Distance\n",
      "402310760011 082020 082520 68.96 68.96 1 November Cell Phone Charges  1\n",
      "Vendor Totals 68.96 0.00 68.96\n",
      "700 Clean All Janitorial Services\n",
      "AUTO 072220 072520 750.00 P 750.00 Y 1 Monthly Cleaning Charges (Bi-Weekly Service) * 1\n",
      "AUTO 072620 082520 750.00 750.00 Y 2 Monthly Cleaning Charges (Bi-Weekly Service) 1\n",
      "Vendor Totals 1,500.00 0.00 1,500.00\n",
      "Grand Totals 22,476.31 0.00 22,476.31\n",
      "-16-\n"
     ]
    }
   ],
   "source": [
    "print(text)"
   ]
  },
  {
   "cell_type": "code",
   "execution_count": 8,
   "metadata": {},
   "outputs": [],
   "source": [
    "new_vend_re = re.compile(r'^\\d{3} [A-Z].*')"
   ]
  },
  {
   "cell_type": "code",
   "execution_count": 9,
   "metadata": {},
   "outputs": [
    {
     "name": "stdout",
     "output_type": "stream",
     "text": [
      "200 United Parcel Service\n",
      "202 Software Technology, LLC\n",
      "203 Clerk of the County Court\n",
      "204 Clerk of the District Court\n",
      "225 Jackson/Wylinda\n",
      "240 NELCO\n",
      "250 D & B Real Estate Management Company\n",
      "300 Thomson Reuters Payment Center\n",
      "325 Professional Messenger Services\n",
      "400 Sprint Local & Long Distance\n",
      "700 Clean All Janitorial Services\n"
     ]
    }
   ],
   "source": [
    "for line in text.split('\\n'):\n",
    "    if new_vend_re.match(line):\n",
    "        print(line)"
   ]
  },
  {
   "cell_type": "code",
   "execution_count": 15,
   "metadata": {},
   "outputs": [
    {
     "name": "stdout",
     "output_type": "stream",
     "text": [
      "700\n",
      "Clean All Janitorial Services\n"
     ]
    }
   ],
   "source": [
    "for line in text.split('\\n'):\n",
    "    if new_vend_re.match(line):\n",
    "        vend_num, *vend_name = line.split()\n",
    "        vend_name = ' '.join(vend_name)\n",
    "print(vend_num)\n",
    "print(vend_name)"
   ]
  },
  {
   "cell_type": "code",
   "execution_count": 33,
   "metadata": {},
   "outputs": [],
   "source": [
    "inv_line_re = re.compile(r'(\\d{6}) (\\d{6}) ([\\d,]+\\.\\d{2}) [\\sP]*([\\d,]+\\.\\d{2}) [YN ]*\\d (.*?) [*\\s\\d]')"
   ]
  },
  {
   "cell_type": "code",
   "execution_count": 38,
   "metadata": {},
   "outputs": [],
   "source": [
    "line_items = []\n",
    "for line in text.split('\\n'):\n",
    "    if new_vend_re.match(line):\n",
    "        vend_num, *vend_name = line.split()\n",
    "        vend_name = ' '.join(vend_name)    \n",
    "    \n",
    "    line = inv_line_re.search(line)\n",
    "    if line:\n",
    "        inv_dt = line.group(1)\n",
    "        due_dt = line.group(2)\n",
    "        inv_amt = line.group(3)\n",
    "        net_amt = line.group(4)\n",
    "        desc = line.group(5)\n",
    "        line_items.append(Inv(vend_num, vend_name, inv_dt, due_dt, inv_amt, net_amt, desc))"
   ]
  },
  {
   "cell_type": "code",
   "execution_count": 40,
   "metadata": {},
   "outputs": [],
   "source": [
    "df = pd.DataFrame(line_items)"
   ]
  },
  {
   "cell_type": "code",
   "execution_count": 41,
   "metadata": {},
   "outputs": [
    {
     "data": {
      "text/html": [
       "<div>\n",
       "<style scoped>\n",
       "    .dataframe tbody tr th:only-of-type {\n",
       "        vertical-align: middle;\n",
       "    }\n",
       "\n",
       "    .dataframe tbody tr th {\n",
       "        vertical-align: top;\n",
       "    }\n",
       "\n",
       "    .dataframe thead th {\n",
       "        text-align: right;\n",
       "    }\n",
       "</style>\n",
       "<table border=\"1\" class=\"dataframe\">\n",
       "  <thead>\n",
       "    <tr style=\"text-align: right;\">\n",
       "      <th></th>\n",
       "      <th>vend_num</th>\n",
       "      <th>vend_name</th>\n",
       "      <th>inv_dt</th>\n",
       "      <th>due_dt</th>\n",
       "      <th>inv_amt</th>\n",
       "      <th>net_amt</th>\n",
       "      <th>description</th>\n",
       "    </tr>\n",
       "  </thead>\n",
       "  <tbody>\n",
       "    <tr>\n",
       "      <th>0</th>\n",
       "      <td>200</td>\n",
       "      <td>United Parcel Service</td>\n",
       "      <td>032620</td>\n",
       "      <td>062620</td>\n",
       "      <td>75.00</td>\n",
       "      <td>75.00</td>\n",
       "      <td>Overnight document delivery</td>\n",
       "    </tr>\n",
       "    <tr>\n",
       "      <th>1</th>\n",
       "      <td>200</td>\n",
       "      <td>United Parcel Service</td>\n",
       "      <td>032720</td>\n",
       "      <td>062720</td>\n",
       "      <td>75.00</td>\n",
       "      <td>75.00</td>\n",
       "      <td>Postage</td>\n",
       "    </tr>\n",
       "    <tr>\n",
       "      <th>2</th>\n",
       "      <td>200</td>\n",
       "      <td>United Parcel Service</td>\n",
       "      <td>072620</td>\n",
       "      <td>072620</td>\n",
       "      <td>75.00</td>\n",
       "      <td>75.00</td>\n",
       "      <td>Overnight document delivery</td>\n",
       "    </tr>\n",
       "    <tr>\n",
       "      <th>3</th>\n",
       "      <td>202</td>\n",
       "      <td>Software Technology, LLC</td>\n",
       "      <td>082020</td>\n",
       "      <td>082520</td>\n",
       "      <td>490.00</td>\n",
       "      <td>490.00</td>\n",
       "      <td>Software Maintenance Agreement Tabs3</td>\n",
       "    </tr>\n",
       "    <tr>\n",
       "      <th>4</th>\n",
       "      <td>202</td>\n",
       "      <td>Software Technology, LLC</td>\n",
       "      <td>082020</td>\n",
       "      <td>082520</td>\n",
       "      <td>239.00</td>\n",
       "      <td>239.00</td>\n",
       "      <td>Software Maintenance Agreement Tabs3 General L...</td>\n",
       "    </tr>\n",
       "  </tbody>\n",
       "</table>\n",
       "</div>"
      ],
      "text/plain": [
       "  vend_num                 vend_name  inv_dt  due_dt inv_amt net_amt  \\\n",
       "0      200     United Parcel Service  032620  062620   75.00   75.00   \n",
       "1      200     United Parcel Service  032720  062720   75.00   75.00   \n",
       "2      200     United Parcel Service  072620  072620   75.00   75.00   \n",
       "3      202  Software Technology, LLC  082020  082520  490.00  490.00   \n",
       "4      202  Software Technology, LLC  082020  082520  239.00  239.00   \n",
       "\n",
       "                                         description  \n",
       "0                        Overnight document delivery  \n",
       "1                                            Postage  \n",
       "2                        Overnight document delivery  \n",
       "3               Software Maintenance Agreement Tabs3  \n",
       "4  Software Maintenance Agreement Tabs3 General L...  "
      ]
     },
     "execution_count": 41,
     "metadata": {},
     "output_type": "execute_result"
    }
   ],
   "source": [
    "df.head()"
   ]
  },
  {
   "cell_type": "code",
   "execution_count": 42,
   "metadata": {},
   "outputs": [],
   "source": [
    "df['inv_dt'] = pd.to_datetime(df['inv_dt'])\n",
    "df['due_dt'] = pd.to_datetime(df['due_dt'])\n"
   ]
  },
  {
   "cell_type": "code",
   "execution_count": 43,
   "metadata": {},
   "outputs": [
    {
     "data": {
      "text/html": [
       "<div>\n",
       "<style scoped>\n",
       "    .dataframe tbody tr th:only-of-type {\n",
       "        vertical-align: middle;\n",
       "    }\n",
       "\n",
       "    .dataframe tbody tr th {\n",
       "        vertical-align: top;\n",
       "    }\n",
       "\n",
       "    .dataframe thead th {\n",
       "        text-align: right;\n",
       "    }\n",
       "</style>\n",
       "<table border=\"1\" class=\"dataframe\">\n",
       "  <thead>\n",
       "    <tr style=\"text-align: right;\">\n",
       "      <th></th>\n",
       "      <th>vend_num</th>\n",
       "      <th>vend_name</th>\n",
       "      <th>inv_dt</th>\n",
       "      <th>due_dt</th>\n",
       "      <th>inv_amt</th>\n",
       "      <th>net_amt</th>\n",
       "      <th>description</th>\n",
       "    </tr>\n",
       "  </thead>\n",
       "  <tbody>\n",
       "    <tr>\n",
       "      <th>0</th>\n",
       "      <td>200</td>\n",
       "      <td>United Parcel Service</td>\n",
       "      <td>2020-03-26</td>\n",
       "      <td>2020-06-26</td>\n",
       "      <td>75.00</td>\n",
       "      <td>75.00</td>\n",
       "      <td>Overnight document delivery</td>\n",
       "    </tr>\n",
       "    <tr>\n",
       "      <th>1</th>\n",
       "      <td>200</td>\n",
       "      <td>United Parcel Service</td>\n",
       "      <td>2020-03-27</td>\n",
       "      <td>2020-06-27</td>\n",
       "      <td>75.00</td>\n",
       "      <td>75.00</td>\n",
       "      <td>Postage</td>\n",
       "    </tr>\n",
       "    <tr>\n",
       "      <th>2</th>\n",
       "      <td>200</td>\n",
       "      <td>United Parcel Service</td>\n",
       "      <td>2020-07-26</td>\n",
       "      <td>2020-07-26</td>\n",
       "      <td>75.00</td>\n",
       "      <td>75.00</td>\n",
       "      <td>Overnight document delivery</td>\n",
       "    </tr>\n",
       "    <tr>\n",
       "      <th>3</th>\n",
       "      <td>202</td>\n",
       "      <td>Software Technology, LLC</td>\n",
       "      <td>2020-08-20</td>\n",
       "      <td>2020-08-25</td>\n",
       "      <td>490.00</td>\n",
       "      <td>490.00</td>\n",
       "      <td>Software Maintenance Agreement Tabs3</td>\n",
       "    </tr>\n",
       "    <tr>\n",
       "      <th>4</th>\n",
       "      <td>202</td>\n",
       "      <td>Software Technology, LLC</td>\n",
       "      <td>2020-08-20</td>\n",
       "      <td>2020-08-25</td>\n",
       "      <td>239.00</td>\n",
       "      <td>239.00</td>\n",
       "      <td>Software Maintenance Agreement Tabs3 General L...</td>\n",
       "    </tr>\n",
       "  </tbody>\n",
       "</table>\n",
       "</div>"
      ],
      "text/plain": [
       "  vend_num                 vend_name     inv_dt     due_dt inv_amt net_amt  \\\n",
       "0      200     United Parcel Service 2020-03-26 2020-06-26   75.00   75.00   \n",
       "1      200     United Parcel Service 2020-03-27 2020-06-27   75.00   75.00   \n",
       "2      200     United Parcel Service 2020-07-26 2020-07-26   75.00   75.00   \n",
       "3      202  Software Technology, LLC 2020-08-20 2020-08-25  490.00  490.00   \n",
       "4      202  Software Technology, LLC 2020-08-20 2020-08-25  239.00  239.00   \n",
       "\n",
       "                                         description  \n",
       "0                        Overnight document delivery  \n",
       "1                                            Postage  \n",
       "2                        Overnight document delivery  \n",
       "3               Software Maintenance Agreement Tabs3  \n",
       "4  Software Maintenance Agreement Tabs3 General L...  "
      ]
     },
     "execution_count": 43,
     "metadata": {},
     "output_type": "execute_result"
    }
   ],
   "source": [
    "df.head()"
   ]
  },
  {
   "cell_type": "code",
   "execution_count": 45,
   "metadata": {},
   "outputs": [],
   "source": [
    "df['inv_amt'] = df['inv_amt'].map(lambda x: float(x.replace(',', '')))"
   ]
  },
  {
   "cell_type": "code",
   "execution_count": 46,
   "metadata": {},
   "outputs": [],
   "source": [
    "df['net_amt'] = df['net_amt'].map(lambda x: float(x.replace(',', '')))"
   ]
  },
  {
   "cell_type": "code",
   "execution_count": 47,
   "metadata": {},
   "outputs": [
    {
     "data": {
      "text/plain": [
       "vend_num       2002002002022022022022022022022032042042042252...\n",
       "vend_name      United Parcel ServiceUnited Parcel ServiceUnit...\n",
       "inv_amt                                                  22476.3\n",
       "net_amt                                                  22476.3\n",
       "description    Overnight document deliveryPostageOvernight do...\n",
       "dtype: object"
      ]
     },
     "execution_count": 47,
     "metadata": {},
     "output_type": "execute_result"
    }
   ],
   "source": [
    "df.sum()"
   ]
  },
  {
   "cell_type": "code",
   "execution_count": 48,
   "metadata": {},
   "outputs": [],
   "source": [
    "df.to_csv('inv_lines.csv')"
   ]
  },
  {
   "cell_type": "code",
   "execution_count": null,
   "metadata": {},
   "outputs": [],
   "source": []
  }
 ],
 "metadata": {
  "kernelspec": {
   "display_name": "Python 3",
   "language": "python",
   "name": "python3"
  },
  "language_info": {
   "codemirror_mode": {
    "name": "ipython",
    "version": 3
   },
   "file_extension": ".py",
   "mimetype": "text/x-python",
   "name": "python",
   "nbconvert_exporter": "python",
   "pygments_lexer": "ipython3",
   "version": "3.7.6"
  }
 },
 "nbformat": 4,
 "nbformat_minor": 4
}
